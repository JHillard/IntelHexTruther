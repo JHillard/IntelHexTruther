{
 "cells": [
  {
   "cell_type": "code",
   "execution_count": null,
   "metadata": {
    "collapsed": false
   },
   "outputs": [],
   "source": [
    "from intelhex import IntelHex\n",
    "ih = IntelHex()\n",
    "hexFileName = \"2bitTT.hex\""
   ]
  },
  {
   "cell_type": "code",
   "execution_count": null,
   "metadata": {
    "collapsed": false
   },
   "outputs": [],
   "source": [
    "#---AND Truth table\n",
    "#--- 0 - 1 -------\n",
    "#--0 0 - 0 -------\n",
    "#--1 0 - 1 -------\n",
    "#To Write another way;\n",
    "# 00:0\n",
    "# 01:0\n",
    "# 10:0\n",
    "# 11:1\n",
    "bit2Truth ={ 0:0, 1:0, 2:0, 3:1};\n",
    "bit2Truth[3]\n",
    "ih.fromdict(bit2Truth)\n"
   ]
  },
  {
   "cell_type": "code",
   "execution_count": null,
   "metadata": {
    "collapsed": false
   },
   "outputs": [],
   "source": [
    "from intelhex import IntelHex\n",
    "class HexTruth():\n",
    "    def __init__(csvFilename, hexFilename=None ):\n",
    "        if hexFilename is None: hexFilename = csvFileName\n",
    "        self.csvFilename\n",
    "        self.ih= IntelHex()"
   ]
  },
  {
   "cell_type": "code",
   "execution_count": null,
   "metadata": {
    "collapsed": false
   },
   "outputs": [],
   "source": [
    "16*28 "
   ]
  },
  {
   "cell_type": "code",
   "execution_count": null,
   "metadata": {
    "collapsed": false
   },
   "outputs": [],
   "source": [
    "ih.addresses()"
   ]
  },
  {
   "cell_type": "code",
   "execution_count": 1,
   "metadata": {
    "collapsed": false
   },
   "outputs": [],
   "source": [
    "def writeFromIntelHex(ih, fileName=\"test.hex\"):\n",
    "    f = open(fileName, 'w');\n",
    "    ih.write_hex_file(f)\n",
    "    f.close();"
   ]
  },
  {
   "cell_type": "code",
   "execution_count": 2,
   "metadata": {
    "collapsed": false
   },
   "outputs": [],
   "source": [
    "csvFileName = 'b2TruthTable.csv'\n",
    "def importCSV(csvFileName):\n",
    "    import csv\n",
    "    csvTruth = []\n",
    "    with open(csvFileName, newline='') as csvfile:\n",
    "        csvReadingMachine = csv.reader(csvfile, delimiter=',', quotechar='\"')\n",
    "        for row in csvReadingMachine:\n",
    "            csvTruth.append(row)\n",
    "    return csvTruth\n",
    "\n",
    "def parseCSV(csvTruth, rangeIn = [0,8], rangeOut = [10]):\n",
    "    hexDict = {};\n",
    "    for line in csvTruth:\n",
    "        binaryString = \"\"\n",
    "        for j in rangeIn:\n",
    "            if \"#\" in str(j):break\n",
    "            binaryString+=str(line[j])\n",
    "        address = (int(binaryString,2))\n",
    "        \n",
    "        binaryString = \"\"\n",
    "        for j in rangeOut:\n",
    "            if \"#\" in str(j):break\n",
    "            binaryString+=str(line[j])\n",
    "        data = (int(binaryString,2))\n",
    "        hexDict[address] = data\n",
    "    return hexDict\n",
    "\n",
    "        "
   ]
  },
  {
   "cell_type": "code",
   "execution_count": 4,
   "metadata": {
    "collapsed": false
   },
   "outputs": [
    {
     "name": "stdout",
     "output_type": "stream",
     "text": [
      "0000  00 00 00 01 -- -- -- -- -- -- -- -- -- -- -- --  |....            |\n"
     ]
    },
    {
     "name": "stderr",
     "output_type": "stream",
     "text": [
      "/home/jake/anaconda3/lib/python3.4/site-packages/ipykernel/__main__.py:3: DeprecationWarning: tostring() is deprecated. Use tobytes() instead.\n",
      "  app.launch_new_instance()\n"
     ]
    }
   ],
   "source": [
    "from intelhex import IntelHex\n",
    "ih = IntelHex()\n",
    "csvList = importCSV(\"b2TruthTable.csv\")\n",
    "hexDict = parseCSV(csvList, rangeIn = [0,1], rangeOut = [3])\n",
    "ih.fromdict(hexDict)\n",
    "ih.dump()\n",
    "writeFromIntelHex(ih)"
   ]
  },
  {
   "cell_type": "code",
   "execution_count": 11,
   "metadata": {
    "collapsed": false
   },
   "outputs": [
    {
     "name": "stdout",
     "output_type": "stream",
     "text": [
      "0000  00 00 00 01 -- -- -- -- -- -- -- -- -- -- -- --  |....            |\n"
     ]
    }
   ],
   "source": [
    "ih.dump()\n"
   ]
  },
  {
   "cell_type": "code",
   "execution_count": null,
   "metadata": {
    "collapsed": false
   },
   "outputs": [],
   "source": [
    "synthesizeHex()"
   ]
  },
  {
   "cell_type": "code",
   "execution_count": null,
   "metadata": {
    "collapsed": false
   },
   "outputs": [],
   "source": [
    "hex(110)"
   ]
  },
  {
   "cell_type": "code",
   "execution_count": null,
   "metadata": {
    "collapsed": false
   },
   "outputs": [],
   "source": [
    "ih.dump()\n"
   ]
  },
  {
   "cell_type": "code",
   "execution_count": null,
   "metadata": {
    "collapsed": false
   },
   "outputs": [],
   "source": [
    "hex(int((\"0110\"),2))"
   ]
  },
  {
   "cell_type": "code",
   "execution_count": null,
   "metadata": {
    "collapsed": true
   },
   "outputs": [],
   "source": []
  }
 ],
 "metadata": {
  "kernelspec": {
   "display_name": "Python 3",
   "language": "python",
   "name": "python3"
  },
  "language_info": {
   "codemirror_mode": {
    "name": "ipython",
    "version": 3
   },
   "file_extension": ".py",
   "mimetype": "text/x-python",
   "name": "python",
   "nbconvert_exporter": "python",
   "pygments_lexer": "ipython3",
   "version": "3.4.3"
  }
 },
 "nbformat": 4,
 "nbformat_minor": 0
}
