{
 "cells": [
  {
   "cell_type": "code",
   "execution_count": 3,
   "metadata": {
    "collapsed": false
   },
   "outputs": [],
   "source": [
    "from intelhex import IntelHex\n",
    "import csv\n",
    "\n",
    "class HexTruth:\n",
    "    def __init__(self, csvFilename, hexFilename=None ):\n",
    "        if hexFilename is None: hexFilename = csvFilename.split(\".\")[0]+ \".hex\"\n",
    "        self.csvFilename = csvFilename\n",
    "        self.hexFilename = hexFilename\n",
    "        self.ih= IntelHex()\n",
    "        \n",
    "    def writeFromIntelHex(self): #Takes the IntelHex object and writes it to a hex file.\n",
    "        f = open(self.hexFilename, 'w');\n",
    "        self.ih.write_hex_file(f)\n",
    "        f.close()\n",
    "    \n",
    "    def importCSV(self): #Opens a given csv filename and returns it's values as a list of lists.\n",
    "        #list of lists = rows of columns\n",
    "        self.csvTruth = []\n",
    "        with open(self.csvFilename, newline='') as csvfile:\n",
    "            csvReadingMachine = csv.reader(csvfile, delimiter=',', quotechar='\"')\n",
    "            for row in csvReadingMachine:\n",
    "                self.csvTruth.append(row)\n",
    "        return self.csvTruth\n",
    "    \n",
    "    def parseCSV(self, csvTruth, rangeIn = [0,8], rangeOut = [10]): #Takes list of lists and converts it into a \n",
    "        #dict object for IntelHex to use. (ih.fromdict(hexDict))\n",
    "        self.hexDict = {};\n",
    "        for line in csvTruth:\n",
    "            if \"#\" in str(line):continue\n",
    "            [addr, dat] = str(line).split(\"''\")\n",
    "            rangeIn = [0, addr.count(',') -1]\n",
    "            if dat.count(\",\") is 1: rangeOut = [rangeIn[-1] + 2]\n",
    "            else:rangeOut = [rangeIn[-1] + 2, rangeIn[-1] + 1 + dat.count(\",\")]\n",
    "                       \n",
    "            binaryString = \"\"\n",
    "            for j in rangeIn:                \n",
    "                binaryString+=str(line[j])\n",
    "            address = (int(binaryString,2))\n",
    "            binaryString = \"\"\n",
    "            for j in rangeOut:\n",
    "                binaryString+=str(line[j])\n",
    "            data = (int(binaryString,2))\n",
    "            self.hexDict[address] = data\n",
    "        return self.hexDict"
   ]
  },
  {
   "cell_type": "code",
   "execution_count": 6,
   "metadata": {
    "collapsed": false
   },
   "outputs": [
    {
     "name": "stdout",
     "output_type": "stream",
     "text": [
      "CSV filename? (Is file in the same directory as this program?)b2TruthTable.csv\n"
     ]
    },
    {
     "name": "stderr",
     "output_type": "stream",
     "text": [
      "/home/jake/anaconda3/lib/python3.4/site-packages/ipykernel/__main__.py:13: DeprecationWarning: tostring() is deprecated. Use tobytes() instead.\n"
     ]
    }
   ],
   "source": [
    "fileName = input(\"CSV filename? (Is file in the same directory as this program?)\")\n",
    "tt = HexTruth(fileName)\n",
    "cTruth = tt.importCSV()\n",
    "newDict = tt.parseCSV(cTruth)\n",
    "tt.ih.fromdict(newDict)\n",
    "tt.writeFromIntelHex()\n",
    "print(\"Hex file generated\")"
   ]
  },
  {
   "cell_type": "code",
   "execution_count": null,
   "metadata": {
    "collapsed": true
   },
   "outputs": [],
   "source": []
  },
  {
   "cell_type": "code",
   "execution_count": 3,
   "metadata": {
    "collapsed": false
   },
   "outputs": [],
   "source": [
    "class TruthWriter:\n",
    "    def __init__(self, addressSize, dataSize, logicType, logicRange = 8, selectorRange = 3):\n",
    "        self.addressSize=addressSize\n",
    "        self.dataSize=dataSize\n",
    "        self.logicType = logicType\n",
    "    def genDict(self):\n",
    "        logicDict = {}\n",
    "        for i in range(0, 2**addressSize-1):\n",
    "            bString = \"{0:0\" + str(addressSize) + \"b}\"\n",
    "            bString.format(i)\n",
    "            \n",
    "        "
   ]
  },
  {
   "cell_type": "code",
   "execution_count": 47,
   "metadata": {
    "collapsed": false
   },
   "outputs": [],
   "source": [
    "addressSize = 8\n",
    "logicDict = {}\n",
    "logic = 'and'\n",
    "for i in range(0, 2**addressSize): #builds the logic\n",
    "    address = \"{0:0\" + str(addressSize) + \"b}\"\n",
    "    runningLogic = int(address.format(i)[0])\n",
    "    for e in address.format(i):\n",
    "        if logic is 'and': runningLogic = runningLogic & int(e)\n",
    "        if logic is 'or': runningLogic = runningLogic | int(e)\n",
    "    logicDict[address.format(i)] = runningLogic\n",
    "    "
   ]
  },
  {
   "cell_type": "code",
   "execution_count": 48,
   "metadata": {
    "collapsed": false
   },
   "outputs": [
    {
     "data": {
      "text/plain": [
       "{'00000000': 0,\n",
       " '00000001': 0,\n",
       " '00000010': 0,\n",
       " '00000011': 0,\n",
       " '00000100': 0,\n",
       " '00000101': 0,\n",
       " '00000110': 0,\n",
       " '00000111': 0,\n",
       " '00001000': 0,\n",
       " '00001001': 0,\n",
       " '00001010': 0,\n",
       " '00001011': 0,\n",
       " '00001100': 0,\n",
       " '00001101': 0,\n",
       " '00001110': 0,\n",
       " '00001111': 0,\n",
       " '00010000': 0,\n",
       " '00010001': 0,\n",
       " '00010010': 0,\n",
       " '00010011': 0,\n",
       " '00010100': 0,\n",
       " '00010101': 0,\n",
       " '00010110': 0,\n",
       " '00010111': 0,\n",
       " '00011000': 0,\n",
       " '00011001': 0,\n",
       " '00011010': 0,\n",
       " '00011011': 0,\n",
       " '00011100': 0,\n",
       " '00011101': 0,\n",
       " '00011110': 0,\n",
       " '00011111': 0,\n",
       " '00100000': 0,\n",
       " '00100001': 0,\n",
       " '00100010': 0,\n",
       " '00100011': 0,\n",
       " '00100100': 0,\n",
       " '00100101': 0,\n",
       " '00100110': 0,\n",
       " '00100111': 0,\n",
       " '00101000': 0,\n",
       " '00101001': 0,\n",
       " '00101010': 0,\n",
       " '00101011': 0,\n",
       " '00101100': 0,\n",
       " '00101101': 0,\n",
       " '00101110': 0,\n",
       " '00101111': 0,\n",
       " '00110000': 0,\n",
       " '00110001': 0,\n",
       " '00110010': 0,\n",
       " '00110011': 0,\n",
       " '00110100': 0,\n",
       " '00110101': 0,\n",
       " '00110110': 0,\n",
       " '00110111': 0,\n",
       " '00111000': 0,\n",
       " '00111001': 0,\n",
       " '00111010': 0,\n",
       " '00111011': 0,\n",
       " '00111100': 0,\n",
       " '00111101': 0,\n",
       " '00111110': 0,\n",
       " '00111111': 0,\n",
       " '01000000': 0,\n",
       " '01000001': 0,\n",
       " '01000010': 0,\n",
       " '01000011': 0,\n",
       " '01000100': 0,\n",
       " '01000101': 0,\n",
       " '01000110': 0,\n",
       " '01000111': 0,\n",
       " '01001000': 0,\n",
       " '01001001': 0,\n",
       " '01001010': 0,\n",
       " '01001011': 0,\n",
       " '01001100': 0,\n",
       " '01001101': 0,\n",
       " '01001110': 0,\n",
       " '01001111': 0,\n",
       " '01010000': 0,\n",
       " '01010001': 0,\n",
       " '01010010': 0,\n",
       " '01010011': 0,\n",
       " '01010100': 0,\n",
       " '01010101': 0,\n",
       " '01010110': 0,\n",
       " '01010111': 0,\n",
       " '01011000': 0,\n",
       " '01011001': 0,\n",
       " '01011010': 0,\n",
       " '01011011': 0,\n",
       " '01011100': 0,\n",
       " '01011101': 0,\n",
       " '01011110': 0,\n",
       " '01011111': 0,\n",
       " '01100000': 0,\n",
       " '01100001': 0,\n",
       " '01100010': 0,\n",
       " '01100011': 0,\n",
       " '01100100': 0,\n",
       " '01100101': 0,\n",
       " '01100110': 0,\n",
       " '01100111': 0,\n",
       " '01101000': 0,\n",
       " '01101001': 0,\n",
       " '01101010': 0,\n",
       " '01101011': 0,\n",
       " '01101100': 0,\n",
       " '01101101': 0,\n",
       " '01101110': 0,\n",
       " '01101111': 0,\n",
       " '01110000': 0,\n",
       " '01110001': 0,\n",
       " '01110010': 0,\n",
       " '01110011': 0,\n",
       " '01110100': 0,\n",
       " '01110101': 0,\n",
       " '01110110': 0,\n",
       " '01110111': 0,\n",
       " '01111000': 0,\n",
       " '01111001': 0,\n",
       " '01111010': 0,\n",
       " '01111011': 0,\n",
       " '01111100': 0,\n",
       " '01111101': 0,\n",
       " '01111110': 0,\n",
       " '01111111': 0,\n",
       " '10000000': 0,\n",
       " '10000001': 0,\n",
       " '10000010': 0,\n",
       " '10000011': 0,\n",
       " '10000100': 0,\n",
       " '10000101': 0,\n",
       " '10000110': 0,\n",
       " '10000111': 0,\n",
       " '10001000': 0,\n",
       " '10001001': 0,\n",
       " '10001010': 0,\n",
       " '10001011': 0,\n",
       " '10001100': 0,\n",
       " '10001101': 0,\n",
       " '10001110': 0,\n",
       " '10001111': 0,\n",
       " '10010000': 0,\n",
       " '10010001': 0,\n",
       " '10010010': 0,\n",
       " '10010011': 0,\n",
       " '10010100': 0,\n",
       " '10010101': 0,\n",
       " '10010110': 0,\n",
       " '10010111': 0,\n",
       " '10011000': 0,\n",
       " '10011001': 0,\n",
       " '10011010': 0,\n",
       " '10011011': 0,\n",
       " '10011100': 0,\n",
       " '10011101': 0,\n",
       " '10011110': 0,\n",
       " '10011111': 0,\n",
       " '10100000': 0,\n",
       " '10100001': 0,\n",
       " '10100010': 0,\n",
       " '10100011': 0,\n",
       " '10100100': 0,\n",
       " '10100101': 0,\n",
       " '10100110': 0,\n",
       " '10100111': 0,\n",
       " '10101000': 0,\n",
       " '10101001': 0,\n",
       " '10101010': 0,\n",
       " '10101011': 0,\n",
       " '10101100': 0,\n",
       " '10101101': 0,\n",
       " '10101110': 0,\n",
       " '10101111': 0,\n",
       " '10110000': 0,\n",
       " '10110001': 0,\n",
       " '10110010': 0,\n",
       " '10110011': 0,\n",
       " '10110100': 0,\n",
       " '10110101': 0,\n",
       " '10110110': 0,\n",
       " '10110111': 0,\n",
       " '10111000': 0,\n",
       " '10111001': 0,\n",
       " '10111010': 0,\n",
       " '10111011': 0,\n",
       " '10111100': 0,\n",
       " '10111101': 0,\n",
       " '10111110': 0,\n",
       " '10111111': 0,\n",
       " '11000000': 0,\n",
       " '11000001': 0,\n",
       " '11000010': 0,\n",
       " '11000011': 0,\n",
       " '11000100': 0,\n",
       " '11000101': 0,\n",
       " '11000110': 0,\n",
       " '11000111': 0,\n",
       " '11001000': 0,\n",
       " '11001001': 0,\n",
       " '11001010': 0,\n",
       " '11001011': 0,\n",
       " '11001100': 0,\n",
       " '11001101': 0,\n",
       " '11001110': 0,\n",
       " '11001111': 0,\n",
       " '11010000': 0,\n",
       " '11010001': 0,\n",
       " '11010010': 0,\n",
       " '11010011': 0,\n",
       " '11010100': 0,\n",
       " '11010101': 0,\n",
       " '11010110': 0,\n",
       " '11010111': 0,\n",
       " '11011000': 0,\n",
       " '11011001': 0,\n",
       " '11011010': 0,\n",
       " '11011011': 0,\n",
       " '11011100': 0,\n",
       " '11011101': 0,\n",
       " '11011110': 0,\n",
       " '11011111': 0,\n",
       " '11100000': 0,\n",
       " '11100001': 0,\n",
       " '11100010': 0,\n",
       " '11100011': 0,\n",
       " '11100100': 0,\n",
       " '11100101': 0,\n",
       " '11100110': 0,\n",
       " '11100111': 0,\n",
       " '11101000': 0,\n",
       " '11101001': 0,\n",
       " '11101010': 0,\n",
       " '11101011': 0,\n",
       " '11101100': 0,\n",
       " '11101101': 0,\n",
       " '11101110': 0,\n",
       " '11101111': 0,\n",
       " '11110000': 0,\n",
       " '11110001': 0,\n",
       " '11110010': 0,\n",
       " '11110011': 0,\n",
       " '11110100': 0,\n",
       " '11110101': 0,\n",
       " '11110110': 0,\n",
       " '11110111': 0,\n",
       " '11111000': 0,\n",
       " '11111001': 0,\n",
       " '11111010': 0,\n",
       " '11111011': 0,\n",
       " '11111100': 0,\n",
       " '11111101': 0,\n",
       " '11111110': 0,\n",
       " '11111111': 1}"
      ]
     },
     "execution_count": 48,
     "metadata": {},
     "output_type": "execute_result"
    }
   ],
   "source": [
    "logicDict\n"
   ]
  },
  {
   "cell_type": "code",
   "execution_count": 27,
   "metadata": {
    "collapsed": false
   },
   "outputs": [
    {
     "data": {
      "text/plain": [
       "'1'"
      ]
     },
     "execution_count": 27,
     "metadata": {},
     "output_type": "execute_result"
    }
   ],
   "source": [
    "bString[0]"
   ]
  },
  {
   "cell_type": "code",
   "execution_count": 24,
   "metadata": {
    "collapsed": false
   },
   "outputs": [
    {
     "data": {
      "text/plain": [
       "['1111111111111110']"
      ]
     },
     "execution_count": 24,
     "metadata": {},
     "output_type": "execute_result"
    }
   ],
   "source": [
    "bString.split(\"d\")"
   ]
  },
  {
   "cell_type": "code",
   "execution_count": 2,
   "metadata": {
    "collapsed": false
   },
   "outputs": [],
   "source": [
    "csvFileName = 'b2TruthTable.csv'\n",
    "\n",
    "\n",
    "        "
   ]
  },
  {
   "cell_type": "code",
   "execution_count": 4,
   "metadata": {
    "collapsed": false
   },
   "outputs": [
    {
     "name": "stdout",
     "output_type": "stream",
     "text": [
      "0000  00 00 00 01 -- -- -- -- -- -- -- -- -- -- -- --  |....            |\n"
     ]
    },
    {
     "name": "stderr",
     "output_type": "stream",
     "text": [
      "/home/jake/anaconda3/lib/python3.4/site-packages/ipykernel/__main__.py:3: DeprecationWarning: tostring() is deprecated. Use tobytes() instead.\n",
      "  app.launch_new_instance()\n"
     ]
    }
   ],
   "source": [
    "from intelhex import IntelHex\n",
    "ih = IntelHex()\n",
    "csvList = importCSV(\"b2TruthTable.csv\")\n",
    "hexDict = parseCSV(csvList, rangeIn = [0,1], rangeOut = [3])\n",
    "ih.fromdict(hexDict)\n",
    "ih.dump()\n",
    "writeFromIntelHex(ih)"
   ]
  }
 ],
 "metadata": {
  "kernelspec": {
   "display_name": "Python 3",
   "language": "python",
   "name": "python3"
  },
  "language_info": {
   "codemirror_mode": {
    "name": "ipython",
    "version": 3
   },
   "file_extension": ".py",
   "mimetype": "text/x-python",
   "name": "python",
   "nbconvert_exporter": "python",
   "pygments_lexer": "ipython3",
   "version": "3.4.3"
  }
 },
 "nbformat": 4,
 "nbformat_minor": 0
}
