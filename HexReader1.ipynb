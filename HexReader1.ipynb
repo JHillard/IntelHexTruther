{
 "cells": [
  {
   "cell_type": "code",
   "execution_count": null,
   "metadata": {
    "collapsed": false
   },
   "outputs": [],
   "source": [
    "from intelhex import IntelHex\n",
    "ih = IntelHex()\n",
    "hexFileName = \"2bitTT.hex\""
   ]
  },
  {
   "cell_type": "code",
   "execution_count": null,
   "metadata": {
    "collapsed": false
   },
   "outputs": [],
   "source": [
    "#---AND Truth table\n",
    "#--- 0 - 1 -------\n",
    "#--0 0 - 0 -------\n",
    "#--1 0 - 1 -------\n",
    "#To Write another way;\n",
    "# 00:0\n",
    "# 01:0\n",
    "# 10:0\n",
    "# 11:1\n",
    "bit2Truth ={ 0:0, 1:0, 2:0, 3:1};\n",
    "bit2Truth[3]\n",
    "ih.fromdict(bit2Truth)\n"
   ]
  },
  {
   "cell_type": "code",
   "execution_count": 74,
   "metadata": {
    "collapsed": false
   },
   "outputs": [],
   "source": [
    "from intelhex import IntelHex\n",
    "import csv\n",
    "\n",
    "class HexTruth:\n",
    "    def __init__(self, csvFilename, hexFilename=None ):\n",
    "        if hexFilename is None: hexFilename = csvFileName.split(\".\")[0]+ \".hex\"\n",
    "        self.csvFilename = csvFilename\n",
    "        self.hexFilename = hexFilename\n",
    "        self.ih= IntelHex()\n",
    "        \n",
    "    def writeFromIntelHex(self):\n",
    "        f = open(self.hexFilename, 'w');\n",
    "        self.ih.write_hex_file(f)\n",
    "        f.close()\n",
    "    \n",
    "    def importCSV(self):\n",
    "        self.csvTruth = []\n",
    "        with open(self.csvFilename, newline='') as csvfile:\n",
    "            csvReadingMachine = csv.reader(csvfile, delimiter=',', quotechar='\"')\n",
    "            for row in csvReadingMachine:\n",
    "                self.csvTruth.append(row)\n",
    "        return self.csvTruth\n",
    "    \n",
    "    def parseCSV(self, csvTruth, rangeIn = [0,8], rangeOut = [10]):\n",
    "        self.hexDict = {};\n",
    "        for line in csvTruth:\n",
    "            if \"#\" in str(line):continue\n",
    "            [addr, dat] = str(line).split(\"''\")\n",
    "            rangeIn = [0, addr.count(',') -1]\n",
    "            if dat.count(\",\") is 1: rangeOut = [rangeIn[-1] + 2]\n",
    "            else:rangeOut = [rangeIn[-1] + 2, rangeIn[-1] + 1 + dat.count(\",\")]\n",
    "                       \n",
    "            binaryString = \"\"\n",
    "            for j in rangeIn:                \n",
    "                binaryString+=str(line[j])\n",
    "            address = (int(binaryString,2))\n",
    "            binaryString = \"\"\n",
    "            for j in rangeOut:\n",
    "                binaryString+=str(line[j])\n",
    "            data = (int(binaryString,2))\n",
    "            self.hexDict[address] = data\n",
    "        return self.hexDict"
   ]
  },
  {
   "cell_type": "code",
   "execution_count": 78,
   "metadata": {
    "collapsed": false
   },
   "outputs": [
    {
     "name": "stdout",
     "output_type": "stream",
     "text": [
      "[['0', '0', '', '0'], ['0', '1', '', '0'], ['1', '0', '', '0'], ['1', '1', '', '1']]\n"
     ]
    },
    {
     "name": "stderr",
     "output_type": "stream",
     "text": [
      "/home/jake/anaconda3/lib/python3.4/site-packages/ipykernel/__main__.py:13: DeprecationWarning: tostring() is deprecated. Use tobytes() instead.\n"
     ]
    }
   ],
   "source": [
    "tt = HexTruth(\"b2TruthTable.csv\")\n",
    "cTruth = tt.importCSV()\n",
    "print(cTruth)\n",
    "newDict = tt.parseCSV(cTruth)\n",
    "tt.ih.fromdict(newDict)\n",
    "tt.writeFromIntelHex()"
   ]
  },
  {
   "cell_type": "code",
   "execution_count": 77,
   "metadata": {
    "collapsed": false
   },
   "outputs": [
    {
     "name": "stdout",
     "output_type": "stream",
     "text": [
      "4\n",
      "4\n"
     ]
    }
   ],
   "source": [
    "for j in [4,4]:\n",
    "    print(j)"
   ]
  },
  {
   "cell_type": "code",
   "execution_count": 17,
   "metadata": {
    "collapsed": false
   },
   "outputs": [
    {
     "data": {
      "text/plain": [
       "['ho', 'hi']"
      ]
     },
     "execution_count": 17,
     "metadata": {},
     "output_type": "execute_result"
    }
   ],
   "source": [
    "st =\"ho.hi\"\n",
    "st.split(\".\")"
   ]
  },
  {
   "cell_type": "code",
   "execution_count": 40,
   "metadata": {
    "collapsed": false
   },
   "outputs": [
    {
     "data": {
      "text/plain": [
       "4"
      ]
     },
     "execution_count": 40,
     "metadata": {},
     "output_type": "execute_result"
    }
   ],
   "source": [
    "len(hope)"
   ]
  },
  {
   "cell_type": "code",
   "execution_count": 2,
   "metadata": {
    "collapsed": false
   },
   "outputs": [],
   "source": [
    "csvFileName = 'b2TruthTable.csv'\n",
    "\n",
    "\n",
    "        "
   ]
  },
  {
   "cell_type": "code",
   "execution_count": 4,
   "metadata": {
    "collapsed": false
   },
   "outputs": [
    {
     "name": "stdout",
     "output_type": "stream",
     "text": [
      "0000  00 00 00 01 -- -- -- -- -- -- -- -- -- -- -- --  |....            |\n"
     ]
    },
    {
     "name": "stderr",
     "output_type": "stream",
     "text": [
      "/home/jake/anaconda3/lib/python3.4/site-packages/ipykernel/__main__.py:3: DeprecationWarning: tostring() is deprecated. Use tobytes() instead.\n",
      "  app.launch_new_instance()\n"
     ]
    }
   ],
   "source": [
    "from intelhex import IntelHex\n",
    "ih = IntelHex()\n",
    "csvList = importCSV(\"b2TruthTable.csv\")\n",
    "hexDict = parseCSV(csvList, rangeIn = [0,1], rangeOut = [3])\n",
    "ih.fromdict(hexDict)\n",
    "ih.dump()\n",
    "writeFromIntelHex(ih)"
   ]
  },
  {
   "cell_type": "code",
   "execution_count": 11,
   "metadata": {
    "collapsed": false
   },
   "outputs": [
    {
     "name": "stdout",
     "output_type": "stream",
     "text": [
      "0000  00 00 00 01 -- -- -- -- -- -- -- -- -- -- -- --  |....            |\n"
     ]
    }
   ],
   "source": [
    "ih.dump()\n"
   ]
  },
  {
   "cell_type": "code",
   "execution_count": null,
   "metadata": {
    "collapsed": false
   },
   "outputs": [],
   "source": [
    "synthesizeHex()"
   ]
  },
  {
   "cell_type": "code",
   "execution_count": null,
   "metadata": {
    "collapsed": false
   },
   "outputs": [],
   "source": [
    "hex(110)"
   ]
  },
  {
   "cell_type": "code",
   "execution_count": null,
   "metadata": {
    "collapsed": false
   },
   "outputs": [],
   "source": [
    "ih.dump()\n"
   ]
  },
  {
   "cell_type": "code",
   "execution_count": null,
   "metadata": {
    "collapsed": false
   },
   "outputs": [],
   "source": [
    "hex(int((\"0110\"),2))"
   ]
  },
  {
   "cell_type": "code",
   "execution_count": null,
   "metadata": {
    "collapsed": true
   },
   "outputs": [],
   "source": []
  }
 ],
 "metadata": {
  "kernelspec": {
   "display_name": "Python 3",
   "language": "python",
   "name": "python3"
  },
  "language_info": {
   "codemirror_mode": {
    "name": "ipython",
    "version": 3
   },
   "file_extension": ".py",
   "mimetype": "text/x-python",
   "name": "python",
   "nbconvert_exporter": "python",
   "pygments_lexer": "ipython3",
   "version": "3.4.3"
  }
 },
 "nbformat": 4,
 "nbformat_minor": 0
}
