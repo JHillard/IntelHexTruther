{
 "cells": [
  {
   "cell_type": "code",
   "execution_count": 2,
   "metadata": {
    "collapsed": false
   },
   "outputs": [],
   "source": [
    "from intelhex import IntelHex\n",
    "ih = IntelHex()\n",
    "hexFileName = \"2bitTT.hex\""
   ]
  },
  {
   "cell_type": "code",
   "execution_count": 3,
   "metadata": {
    "collapsed": false
   },
   "outputs": [],
   "source": [
    "#---AND Truth table\n",
    "#--- 0 - 1 -------\n",
    "#--0 0 - 0 -------\n",
    "#--1 0 - 1 -------\n",
    "#To Write another way;\n",
    "# 00:0\n",
    "# 01:0\n",
    "# 10:0\n",
    "# 11:1\n",
    "bit2Truth ={ 0:0, 1:0, 2:0, 3:1};\n",
    "bit2Truth[3]\n",
    "ih.fromdict(bit2Truth)\n"
   ]
  },
  {
   "cell_type": "code",
   "execution_count": 4,
   "metadata": {
    "collapsed": false
   },
   "outputs": [],
   "source": [
    "def synthesizeHex(fileName=hexFileName):\n",
    "    f = open(fileName, 'w');\n",
    "    ih.write_hex_file(f)\n",
    "    f.close();"
   ]
  },
  {
   "cell_type": "code",
   "execution_count": 5,
   "metadata": {
    "collapsed": false
   },
   "outputs": [
    {
     "name": "stdout",
     "output_type": "stream",
     "text": [
      "0000  00 00 00 01 -- -- -- -- -- -- -- -- -- -- -- --  |....            |\n"
     ]
    },
    {
     "name": "stderr",
     "output_type": "stream",
     "text": [
      "/home/jake/anaconda3/lib/python3.4/site-packages/ipykernel/__main__.py:3: DeprecationWarning: tostring() is deprecated. Use tobytes() instead.\n",
      "  app.launch_new_instance()\n"
     ]
    }
   ],
   "source": [
    "ih.dump()\n",
    "synthesizeHex()"
   ]
  },
  {
   "cell_type": "code",
   "execution_count": null,
   "metadata": {
    "collapsed": false
   },
   "outputs": [],
   "source": [
    "ih[0]"
   ]
  },
  {
   "cell_type": "code",
   "execution_count": null,
   "metadata": {
    "collapsed": false
   },
   "outputs": [],
   "source": [
    "16*28 "
   ]
  },
  {
   "cell_type": "code",
   "execution_count": null,
   "metadata": {
    "collapsed": false
   },
   "outputs": [],
   "source": [
    "ih.addresses()"
   ]
  },
  {
   "cell_type": "code",
   "execution_count": 102,
   "metadata": {
    "collapsed": false
   },
   "outputs": [],
   "source": [
    "csvFileName = 'b2TruthTable.csv'\n",
    "def importCSV(csvFileName):\n",
    "    import csv\n",
    "    csvTruth = []\n",
    "    with open(csvFileName, newline='') as csvfile:\n",
    "        csvReadingMachine = csv.reader(csvfile, delimiter=',', quotechar='\"')\n",
    "        for row in csvReadingMachine:\n",
    "            csvTruth.append(row)\n",
    "    return csvTruth\n",
    "\n",
    "def parseCSV(csvTruth, rangeIn = [0,8], rangeOut = [10]):\n",
    "    hexDict = {};\n",
    "    for line in csvTruth:\n",
    "        binaryString = \"\"\n",
    "        for j in rangeIn:\n",
    "            binaryString+=str(line[j])\n",
    "        address = (int(binaryString,2))\n",
    "        \n",
    "        binaryString = \"\"\n",
    "        for j in rangeOut:\n",
    "            binaryString+=str(line[j])\n",
    "        data = (int(binaryString,2))\n",
    "        hexDict[address] = data\n",
    "    return hexDict\n",
    "\n",
    "        "
   ]
  },
  {
   "cell_type": "code",
   "execution_count": 103,
   "metadata": {
    "collapsed": false
   },
   "outputs": [
    {
     "name": "stdout",
     "output_type": "stream",
     "text": [
      "[['0', '0', '', '0'],\n",
      " ['0', '1', '', '0'],\n",
      " ['1', '0', '', '0'],\n",
      " ['1', '1', '', '1']]\n"
     ]
    }
   ],
   "source": [
    "pprint(csvTruth)"
   ]
  },
  {
   "cell_type": "code",
   "execution_count": 104,
   "metadata": {
    "collapsed": false
   },
   "outputs": [
    {
     "name": "stderr",
     "output_type": "stream",
     "text": [
      "/home/jake/anaconda3/lib/python3.4/site-packages/ipykernel/__main__.py:3: DeprecationWarning: tostring() is deprecated. Use tobytes() instead.\n",
      "  app.launch_new_instance()\n"
     ]
    }
   ],
   "source": [
    "ih.fromdict( parseCSV(csvTruth, rangeIn = [0,1], rangeOut = [3]))\n",
    "synthesizeHex(\"csvToHexTest1.hex\")"
   ]
  },
  {
   "cell_type": "code",
   "execution_count": 17,
   "metadata": {
    "collapsed": false
   },
   "outputs": [
    {
     "ename": "AttributeError",
     "evalue": "'_csv.reader' object has no attribute 'list_dialects'",
     "output_type": "error",
     "traceback": [
      "\u001b[1;31m---------------------------------------------------------------------------\u001b[0m",
      "\u001b[1;31mAttributeError\u001b[0m                            Traceback (most recent call last)",
      "\u001b[1;32m<ipython-input-17-97507b79e4fb>\u001b[0m in \u001b[0;36m<module>\u001b[1;34m()\u001b[0m\n\u001b[1;32m----> 1\u001b[1;33m \u001b[0mcsvTruth\u001b[0m\u001b[1;33m.\u001b[0m\u001b[0mlist_dialects\u001b[0m\u001b[1;33m(\u001b[0m\u001b[1;33m)\u001b[0m\u001b[1;33m\u001b[0m\u001b[0m\n\u001b[0m",
      "\u001b[1;31mAttributeError\u001b[0m: '_csv.reader' object has no attribute 'list_dialects'"
     ]
    }
   ],
   "source": [
    "synthesizeHex()"
   ]
  },
  {
   "cell_type": "code",
   "execution_count": 88,
   "metadata": {
    "collapsed": false
   },
   "outputs": [
    {
     "data": {
      "text/plain": [
       "'0x6e'"
      ]
     },
     "execution_count": 88,
     "metadata": {},
     "output_type": "execute_result"
    }
   ],
   "source": [
    "hex(110)"
   ]
  },
  {
   "cell_type": "code",
   "execution_count": 91,
   "metadata": {
    "collapsed": false
   },
   "outputs": [
    {
     "data": {
      "text/plain": [
       "'0x6'"
      ]
     },
     "execution_count": 91,
     "metadata": {},
     "output_type": "execute_result"
    }
   ],
   "source": [
    "hex(int((\"0110\"),2))"
   ]
  },
  {
   "cell_type": "code",
   "execution_count": null,
   "metadata": {
    "collapsed": true
   },
   "outputs": [],
   "source": []
  }
 ],
 "metadata": {
  "kernelspec": {
   "display_name": "Python 3",
   "language": "python",
   "name": "python3"
  },
  "language_info": {
   "codemirror_mode": {
    "name": "ipython",
    "version": 3
   },
   "file_extension": ".py",
   "mimetype": "text/x-python",
   "name": "python",
   "nbconvert_exporter": "python",
   "pygments_lexer": "ipython3",
   "version": "3.4.3"
  }
 },
 "nbformat": 4,
 "nbformat_minor": 0
}
