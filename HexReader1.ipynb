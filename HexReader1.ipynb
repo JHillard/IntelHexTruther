{
 "cells": [
  {
   "cell_type": "code",
   "execution_count": 11,
   "metadata": {
    "collapsed": false
   },
   "outputs": [],
   "source": [
    "from intelhex import IntelHex\n",
    "import csv\n",
    "\n",
    "class HexTruth: #Class which takes a dict or CSV file and converts it into an Intel Hex file for ROM burning.\n",
    "    def __init__(self, csvFilename, loadDict = None, hexFilename=None ):\n",
    "        if hexFilename is None: hexFilename = csvFilename.split(\".\")[0]+ \".hex\"\n",
    "        self.csvFilename = csvFilename\n",
    "        self.hexFilename = hexFilename\n",
    "        self.ih= IntelHex()\n",
    "        self.hexDict = {};\n",
    "        if loadDict is not None:\n",
    "            self.hexDict = loadDict\n",
    "            self.ih.fromdict(loadDict)\n",
    "            self.writeFromIntelHex()\n",
    "            \n",
    "            \n",
    "    def writeFromIntelHex(self): #Takes the IntelHex object and writes it to a hex file.\n",
    "        f = open(self.hexFilename, 'w');\n",
    "        self.ih.write_hex_file(f)\n",
    "        f.close()\n",
    "        print(\"Hex file generated.\")\n",
    "    \n",
    "    def importCSV(self): #Opens a given csv filename and returns it's values as a list of lists.\n",
    "        #list of lists = rows of columns\n",
    "        self.csvTruth = []\n",
    "        with open(self.csvFilename, newline='') as csvfile:\n",
    "            csvReadingMachine = csv.reader(csvfile, delimiter=',', quotechar='\"')\n",
    "            for row in csvReadingMachine:\n",
    "                self.csvTruth.append(row)\n",
    "                if \"#\" in str(row):continue\n",
    "                [addr, dat] = str(row).split(\"''\")\n",
    "                rangeIn = [0, addr.count(',') -1]\n",
    "                if dat.count(\",\") is 1: rangeOut = [rangeIn[-1] + 2]\n",
    "                else:rangeOut = [rangeIn[-1] + 2, rangeIn[-1] + 1 + dat.count(\",\")]\n",
    "\n",
    "                binaryString = \"\"\n",
    "                for j in range(rangeIn[0], rangeIn[-1] + 1):\n",
    "                    binaryString+=str(row[j])\n",
    "                #address = binaryString\n",
    "                address = (int(binaryString,2))\n",
    "                binaryString = \"\"\n",
    "                for j in range(rangeOut[0], rangeOut[-1] + 1):\n",
    "                    binaryString+=str(row[j])\n",
    "                #data = binaryString; \n",
    "                data = (int(binaryString,2))\n",
    "                #print(str(address) + \":\" + str(data))\n",
    "                self.hexDict[address] = data\n",
    "            #print(row)\n",
    "        return self.hexDict\n",
    "    \n",
    "   "
   ]
  },
  {
   "cell_type": "code",
   "execution_count": 12,
   "metadata": {
    "collapsed": false
   },
   "outputs": [],
   "source": [
    "class TruthWriter:\n",
    "    def __init__(self, dataSize = 8, signalSize = 8, selectorSize = 4):\n",
    "        self.addressSize=signalSize+selectorSize\n",
    "        self.dataSize = dataSize\n",
    "        self.signalSize = signalSize;\n",
    "        self.selectorSize = selectorSize;\n",
    "    def genDict(self):\n",
    "        logicDict = {}\n",
    "        for i in range(0, 2**self.selectorSize):\n",
    "            convertString = '{0:0' + str(self.selectorSize) + 'b}'\n",
    "            selection = convertString.format(i)            \n",
    "            for j in range(0, 2**self.signalSize):\n",
    "                convertString = '{0:0' + str(self.signalSize) + 'b}'\n",
    "                addrHalf = convertString.format(j)\n",
    "                data = self.logicFunction(addrHalf, selection)\n",
    "                #print(str(selection) +\"|\" + str(addrHalf) + \" \" + str(int(data,2)))\n",
    "                #print(selection+addrHalf)\n",
    "                logicDict[ int((selection+ addrHalf),2)] = int(data,2)\n",
    "        return logicDict\n",
    "    \n",
    "    def logicFunction(self, addrHalf, selection):\n",
    "        convertString = '{0:0' + str(self.dataSize) + 'b}'\n",
    "        sansString = '{0:0' + str(self.dataSize-1) + 'b}'\n",
    "        data = convertString.format(0)\n",
    "        sansDataLength = sansString.format(0)\n",
    "      \n",
    "        if selection == \"0000\": #Means AND:\n",
    "            allOnes = True\n",
    "            for bit in addrHalf:\n",
    "                if bit is not \"1\": allOnes = False;\n",
    "            if allOnes: data = \"1\" + sansDataLength\n",
    "                \n",
    "        if selection == \"0001\": #Means OR:\n",
    "            anyOnes = False\n",
    "            for bit in addrHalf:\n",
    "                if bit is \"1\": anyOnes = True\n",
    "            if anyOnes: data = \"1\" + sansDataLength\n",
    "            \n",
    "        if selection == \"0010\": #Means Parity:\n",
    "            numOne = addrHalf.count('1')\n",
    "            if numOne%2 is 1: data = \"1\" + sansDataLength\n",
    "                \n",
    "        return data\n",
    "      "
   ]
  },
  {
   "cell_type": "code",
   "execution_count": 15,
   "metadata": {
    "collapsed": false
   },
   "outputs": [
    {
     "name": "stdout",
     "output_type": "stream",
     "text": [
      "Welcome to HexTruther. Convert your CSV files to IntelHex. Please be sure you run this program in the same directory as the file you wish to convert.\n",
      "CSV filename? (press enter to autogenerate): and2or.csv\n",
      "Hex file generated.\n"
     ]
    },
    {
     "name": "stderr",
     "output_type": "stream",
     "text": [
      "/home/jake/anaconda3/lib/python3.4/site-packages/ipykernel/__main__.py:19: DeprecationWarning: tostring() is deprecated. Use tobytes() instead.\n"
     ]
    }
   ],
   "source": [
    "print(\"Welcome to HexTruther. Convert your CSV files to IntelHex. Please be sure you run this program in the same directory as the file you wish to convert.\")\n",
    "fileName = input(\"CSV filename? (press enter to autogenerate): \")\n",
    "if fileName == \"\":\n",
    "    endingName = input(\"Final Hex filename? (enter to leave same as CSV): \")\n",
    "    if endingName == \"\": raise Exception(\"Hex filename left blank. Nowhere to write data. Please try again\")\n",
    "    tw = TruthWriter()\n",
    "    tion = tw.genDict()\n",
    "    print(\"Autogenerating Truthtable... \")\n",
    "    tt = HexTruth(endingName, loadDict=tion)\n",
    "else:  \n",
    "    tt = HexTruth(fileName)\n",
    "    hexDict = tt.importCSV()\n",
    "    tt.ih.fromdict(hexDict)\n",
    "    tt.writeFromIntelHex()\n",
    "\n",
    "\n"
   ]
  },
  {
   "cell_type": "code",
   "execution_count": null,
   "metadata": {
    "collapsed": true
   },
   "outputs": [],
   "source": []
  }
 ],
 "metadata": {
  "kernelspec": {
   "display_name": "Python 3",
   "language": "python",
   "name": "python3"
  },
  "language_info": {
   "codemirror_mode": {
    "name": "ipython",
    "version": 3
   },
   "file_extension": ".py",
   "mimetype": "text/x-python",
   "name": "python",
   "nbconvert_exporter": "python",
   "pygments_lexer": "ipython3",
   "version": "3.4.3"
  }
 },
 "nbformat": 4,
 "nbformat_minor": 0
}
